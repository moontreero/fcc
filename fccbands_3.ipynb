{
 "cells": [
  {
   "cell_type": "code",
   "execution_count": null,
   "metadata": {},
   "outputs": [],
   "source": [
    "import numpy as np\n",
    "import matplotlib.pyplot as plt\n",
    "while True:\n",
    "    try:   \t\n",
    "    \tm1,m2,m3=map(int,input(\"Enter m1 m2 m3 (space separated integers) \").split())        \n",
    "    \talpha = np.arange(0.0, 1.0, 0.01)\n",
    "    \tE1 = (alpha - m1 +m2+m3)**2 + (m1-m2+m3)**2 + (m1+m2-m3)**2 #from gamma to X\n",
    "    \tE2 = (1 - m1 + m2 + m3)**2 + (alpha/2 + m1 - m2 + m3)**2 + (m1 + m2 - m3)**2 #X to W\n",
    "    \tE3 = (1 - alpha/2 - m1 + m2 + m3)**2 + (0.5 + m1 - m2 + m3)**2 + (alpha/2 + m1 + m2 - m3)**2 # W to L\n",
    "    \tE4 = (-m1 + m2 + m3 + 0.5 - alpha/2)**2 + (m1 - m2 + m3 + 0.5 - alpha/2)**2 + (m1 + m2 - m3 + 0.5 - alpha/2)**2\n",
    "    \t\n",
    "    \tplt.subplot(1, 4, 1)\n",
    "    \tplt.plot(alpha, E1, '-')\n",
    "    \tplt.ylim((0, 5))\n",
    "    \tx = [0, 1]\n",
    "    \tlabels1 = ['$\\Gamma$', '$X$']\n",
    "    \tplt.xticks(x, labels1)\n",
    "    \tplt.ylabel('Normalized Energy')\n",
    "    \t\n",
    "    \tplt.subplot(1, 4, 2) \n",
    "    \tplt.plot(alpha, E2, '-')\n",
    "    \tplt.ylim((0, 5))\n",
    "    \tplt.yticks([])\n",
    "    \tx = [0, 1]\n",
    "    \tlabels1 = ['$X$', '$W$']\n",
    "    \tplt.xticks(x, labels1)\n",
    "    \t\n",
    "    \tplt.subplot(1, 4, 3)\n",
    "    \tplt.plot(alpha, E3, '-')\n",
    "    \tplt.ylim((0, 5))\n",
    "    \tplt.yticks([])\n",
    "    \tlabels1 = ['$W$', '$L$']\n",
    "    \tplt.xticks(x, labels1)\n",
    "    \t\n",
    "    \tplt.subplot(1, 4, 4)\n",
    "    \tplt.plot(alpha, E4, '-')\n",
    "    \tplt.ylim((0, 5))\n",
    "    \tplt.yticks([])\n",
    "    \tlabels1 = ['$L$', '$\\Gamma$']\n",
    "    \tplt.xticks(x, labels1)\n",
    "    \t\n",
    "    \t#plt.show()\n",
    "    \tplt.draw()\n",
    "    \tplt.pause(0.001)\n",
    "    except ValueError:\n",
    "    \tprint ('ended by user')\n",
    "    \tbreak"
   ]
  }
 ],
 "metadata": {
  "kernelspec": {
   "display_name": "Python 2",
   "language": "python",
   "name": "python2"
  },
  "language_info": {
   "codemirror_mode": {
    "name": "ipython",
    "version": 2
   },
   "file_extension": ".py",
   "mimetype": "text/x-python",
   "name": "python",
   "nbconvert_exporter": "python",
   "pygments_lexer": "ipython2",
   "version": "2.7.9"
  }
 },
 "nbformat": 4,
 "nbformat_minor": 2
}
